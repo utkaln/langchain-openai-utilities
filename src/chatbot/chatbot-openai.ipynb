{
 "cells": [
  {
   "cell_type": "markdown",
   "metadata": {},
   "source": [
    "## Chatbot using Persistence from Langgraph\n",
    "- Install required python packages locally\n",
    "- `pip install -qU langchain-openai`\n",
    "- `pip install -U langgraph`\n",
    "\n",
    "### First install basic items required to define LLM"
   ]
  },
  {
   "cell_type": "code",
   "execution_count": 16,
   "metadata": {},
   "outputs": [],
   "source": [
    "import os\n",
    "from dotenv import load_dotenv, find_dotenv\n",
    "\n",
    "# Load local env file\n",
    "_ = load_dotenv(find_dotenv())\n",
    "\n",
    "from langchain_openai import ChatOpenAI\n",
    "model = ChatOpenAI(model=\"gpt-3.5-turbo\", api_key=os.environ['OPENAI_API_KEY'])\n"
   ]
  },
  {
   "cell_type": "markdown",
   "metadata": {},
   "source": [
    "## Message Persistence using Langgraph\n",
    "- An alternative approach is written under the next major heading : Prompt Template"
   ]
  },
  {
   "cell_type": "code",
   "execution_count": 27,
   "metadata": {},
   "outputs": [],
   "source": [
    "from langgraph.checkpoint.memory import MemorySaver\n",
    "from langgraph.graph import START, MessagesState, StateGraph\n",
    "\n",
    "# Define a function to call the model\n",
    "async def invoke_model(state: MessagesState):\n",
    "    response = await model.ainvoke(state[\"messages\"])\n",
    "    return {\"messages\": response}\n",
    "\n",
    "# Define a new graph\n",
    "chatflow = StateGraph(state_schema=MessagesState)\n",
    "\n",
    "# Add first edge to the graph\n",
    "chatflow.add_edge(START, \"model\")\n",
    "\n",
    "# Add a node to the edge of graph\n",
    "chatflow.add_node(\"model\", invoke_model)\n",
    "\n",
    "# Add memory\n",
    "app = chatflow.compile(checkpointer=MemorySaver())\n",
    " "
   ]
  },
  {
   "cell_type": "markdown",
   "metadata": {},
   "source": [
    "#### Enter the first set of input"
   ]
  },
  {
   "cell_type": "code",
   "execution_count": null,
   "metadata": {},
   "outputs": [
    {
     "name": "stdout",
     "output_type": "stream",
     "text": [
      "==================================\u001b[1m Ai Message \u001b[0m==================================\n",
      "\n",
      "Hello Utkal! How can I assist you today?\n"
     ]
    }
   ],
   "source": [
    "\n",
    "# Use config to manage session\n",
    "config = {\"configurable\": {\"thread_id\": \"utkal\"}}\n",
    "\n",
    "from langchain_core.messages import HumanMessage\n",
    "user_query = \"Hi My name is Utkal !\"\n",
    "input_msg = [HumanMessage(user_query)]\n",
    "output_msg = await app.ainvoke({\"messages\": input_msg},config)\n",
    "output_msg[\"messages\"][-1].pretty_print()  "
   ]
  },
  {
   "cell_type": "markdown",
   "metadata": {},
   "source": [
    "#### Second set of input using the same config as first input set"
   ]
  },
  {
   "cell_type": "code",
   "execution_count": 29,
   "metadata": {},
   "outputs": [
    {
     "name": "stdout",
     "output_type": "stream",
     "text": [
      "==================================\u001b[1m Ai Message \u001b[0m==================================\n",
      "\n",
      "Your name is Utkal!\n"
     ]
    }
   ],
   "source": [
    "user_query = \"What is my name ?\"\n",
    "input_msg = [HumanMessage(user_query)]\n",
    "output_msg = await app.ainvoke({\"messages\": input_msg},config)\n",
    "output_msg[\"messages\"][-1].pretty_print() "
   ]
  },
  {
   "cell_type": "markdown",
   "metadata": {},
   "source": [
    "#### Third set of input using a different config from first input set"
   ]
  },
  {
   "cell_type": "code",
   "execution_count": 30,
   "metadata": {},
   "outputs": [
    {
     "name": "stdout",
     "output_type": "stream",
     "text": [
      "==================================\u001b[1m Ai Message \u001b[0m==================================\n",
      "\n",
      "I'm sorry, I do not have access to your personal information and therefore do not know your name.\n"
     ]
    }
   ],
   "source": [
    "\n",
    "# Use config to manage session\n",
    "config = {\"configurable\": {\"thread_id\": \"utkal1\"}}\n",
    "\n",
    "user_query = \"What is my name ?\"\n",
    "input_msg = [HumanMessage(user_query)]\n",
    "output_msg = await app.ainvoke({\"messages\": input_msg},config)\n",
    "output_msg[\"messages\"][-1].pretty_print() "
   ]
  },
  {
   "cell_type": "markdown",
   "metadata": {},
   "source": [
    "### Implement above prompts using prompt template"
   ]
  },
  {
   "cell_type": "code",
   "execution_count": 35,
   "metadata": {},
   "outputs": [],
   "source": [
    "from langchain_core.prompts import ChatPromptTemplate, MessagesPlaceholder\n",
    "system_template = \"You are a helpful software engineer with deep knowledge of cloud computing. Answer the question asked by user in a concise way with one example. Do not provide any imaginary answer. The user input is given here :\"\n",
    "prompt_template = ChatPromptTemplate.from_messages(\n",
    "    [\n",
    "        (\"system\",system_template),\n",
    "        MessagesPlaceholder(variable_name=\"messages\"),\n",
    "    ]\n",
    "\n",
    ")\n",
    "\n",
    "# Define a function to call the model\n",
    "async def invoke_chain_model(state: MessagesState):\n",
    "    chain = prompt_template | model \n",
    "    response = await chain.ainvoke(state[\"messages\"])\n",
    "    return {\"messages\": response}\n",
    "\n",
    "# Define a new graph\n",
    "chatflowPT = StateGraph(state_schema=MessagesState)\n",
    "\n",
    "# Add first edge to the graph\n",
    "chatflowPT.add_edge(START, \"model\")\n",
    "\n",
    "# Add a node to the edge of graph\n",
    "chatflowPT.add_node(\"model\", invoke_chain_model)\n",
    "\n",
    "# Add memory\n",
    "appPT = chatflowPT.compile(checkpointer=MemorySaver())"
   ]
  },
  {
   "cell_type": "markdown",
   "metadata": {},
   "source": [
    "#### Invoke the prompt template based chat call"
   ]
  },
  {
   "cell_type": "code",
   "execution_count": null,
   "metadata": {},
   "outputs": [],
   "source": [
    "configPT = {\"configurable\":{\"thread_id\":\"utkal2\"}}\n",
    "user_input = \"Hi My name is Utkal Nayak !\"\n",
    "input_msg_pt = [HumanMessage(user_input)]\n",
    "output = await appPT.ainvoke({\"messages\": input_msg_pt}, configPT)\n",
    "output[\"messages\"][-1].pretty_print()"
   ]
  },
  {
   "cell_type": "markdown",
   "metadata": {},
   "source": [
    "#### Second input to check memory"
   ]
  },
  {
   "cell_type": "code",
   "execution_count": null,
   "metadata": {},
   "outputs": [],
   "source": [
    "user_input = \"What is my name ?\"\n",
    "input_msg_pt = [HumanMessage(user_input)]\n",
    "output = await appPT.ainvoke({\"messages\": input_msg_pt}, configPT)\n",
    "output[\"messages\"][-1].pretty_print()"
   ]
  },
  {
   "cell_type": "markdown",
   "metadata": {},
   "source": [
    "## Manage Chat History"
   ]
  },
  {
   "cell_type": "code",
   "execution_count": null,
   "metadata": {},
   "outputs": [],
   "source": [
    "from langchain_core.messages import SystemMessage, trim_messages\n",
    "\n",
    "trimmer = trim_messages(\n",
    "    max_token = 65,\n",
    "    strategy = \"last\",\n",
    "    token_counter = \"model\",\n",
    "    include_system = \"true\",\n",
    "    allow_partial = \"False\",\n",
    "    start_on = \"human\",\n",
    ")\n",
    "\n",
    "\n"
   ]
  }
 ],
 "metadata": {
  "kernelspec": {
   "display_name": ".venv",
   "language": "python",
   "name": "python3"
  },
  "language_info": {
   "codemirror_mode": {
    "name": "ipython",
    "version": 3
   },
   "file_extension": ".py",
   "mimetype": "text/x-python",
   "name": "python",
   "nbconvert_exporter": "python",
   "pygments_lexer": "ipython3",
   "version": "3.12.2"
  }
 },
 "nbformat": 4,
 "nbformat_minor": 2
}
