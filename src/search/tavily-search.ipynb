{
 "cells": [
  {
   "cell_type": "markdown",
   "metadata": {},
   "source": [
    "## Tavily Search\n",
    "- Tavily Search API is a search engine for AI agents\n",
    "- [More details](https://python.langchain.com/docs/integrations/tools/tavily_search/)\n",
    "\n",
    "### Prerequisite\n",
    "- Install package : `pip install -qU \"langchain-community>=0.2.11\" tavily-python`"
   ]
  },
  {
   "cell_type": "code",
   "execution_count": 13,
   "metadata": {},
   "outputs": [],
   "source": [
    "## Read Tavily Key from env file\n",
    "import os\n",
    "from dotenv import load_dotenv, find_dotenv\n",
    "# Load local env file\n",
    "_ = load_dotenv(find_dotenv())\n",
    "tavily_api_key = os.environ['TAVILY_API_KEY']"
   ]
  },
  {
   "cell_type": "code",
   "execution_count": 14,
   "metadata": {},
   "outputs": [],
   "source": [
    "# Open AI Basic Setup\n",
    "from langchain_openai import ChatOpenAI\n",
    "model = ChatOpenAI(model=\"gpt-4o-mini\", api_key=os.environ['OPENAI_API_KEY'])"
   ]
  },
  {
   "cell_type": "code",
   "execution_count": 15,
   "metadata": {},
   "outputs": [],
   "source": [
    "## Instantiation\n",
    "from langchain_community.tools import TavilySearchResults\n",
    "search_tool = TavilySearchResults(\n",
    "    max_results=5,\n",
    "    search_depth=\"advanced\",\n",
    "    include_answer=True,\n",
    "    include_raw_content=True,\n",
    "    include_images=True,\n",
    ")"
   ]
  },
  {
   "cell_type": "code",
   "execution_count": 16,
   "metadata": {},
   "outputs": [
    {
     "data": {
      "text/plain": [
       "[{'url': 'https://apnews.com/article/financial-markets-stocks-dow-nasdaq-a109be4b6056b8eef30daf5728b45f83',\n",
       "  'content': 'How major US stock indexes fared Wednesday, 11/1/2023 | AP News AP Votecast AP Top 25 Mideast Wars Israel-Hamas War Russia-Ukraine War Global elections ESPAÑOL China Asia Pacific Latin America AP Votecast Results Advance vote Explaining 2024 AP Votecast AP Top 25 AP Top 25 NFL MLB NBA NHL Men’s College Basketball Women’s College Basketball Auto Racing Movie reviews What to Stream Television Book reviews Music Celebrity Interviews Space Animals The Ancient World Climate Medicine More From AP News AP’s Role in Elections AP Leads AP Stylebook About AP News Values and Principles AP’s Role in Elections AP Leads AP Definitive Source Blog AP Images Spotlight Blog AP Stylebook More From AP News AP’s Role in Elections AP Leads AP Stylebook'},\n",
       " {'url': 'https://www.bloomberg.com/news/articles/2024-10-31/stock-market-today-dow-s-p-live-updates',\n",
       "  'content': 'Stock Market Today: Dow, S&P Live Updates for November 1 - Bloomberg Bloomberg the Company & Its ProductsThe Company & its ProductsBloomberg Terminal Demo RequestBloomberg Anywhere Remote LoginBloomberg Anywhere LoginBloomberg Customer SupportCustomer Support Bloomberg Bloomberg Anywhere Remote Login Tech At Bloomberg Bloomberg London Bloomberg Beta Bloomberg Terminal Industry Products Bloomberg Law Bloomberg Tax Bloomberg Government Bloomberg Markets Bloomberg Technology Bloomberg Pursuits Bloomberg Politics Bloomberg Opinion Bloomberg Businessweek Bloomberg Live Conferences Bloomberg Radio Bloomberg Television Bloomberg Media Distribution Tech At Bloomberg Bloomberg London Bloomberg Beta Bloomberg Terminal Industry Products Bloomberg Law Bloomberg Tax Bloomberg Government Bloomberg Environment Bloomberg Markets Bloomberg Technology Bloomberg Pursuits Bloomberg Politics Bloomberg Opinion Bloomberg Businessweek Bloomberg Live Conferences Bloomberg Radio Bloomberg Television Bloomberg Media Distribution Bloomberg'},\n",
       " {'url': 'https://www.investopedia.com/dow-jones-today-11012024-8738127',\n",
       "  'content': \"Markets News, October 31, 2024: Stocks Tumble as Earnings Weigh on Big Tech; S&P 500, Nasdaq and Dow Post Losses for the Month Markets News, October 29, 2024: Nasdaq Surges to Record Close Ahead of Big-Tech Earnings; Bitcoin Nears All-Time High Markets News, October 24: S&P 500, Nasdaq Rise as Tesla Surges; Dow Closes Lower for 4th Straight Day Markets News, October 23, 2024: Major Indexes Tumble as Tech Stocks Slide; Nasdaq's 5-Day Winning Streak Snapped Markets News, October 15, 2024: Major Indexes Tumble as Nvidia Leads Chipmakers Lower, Energy Stocks Slide Markets News, October 30, 2024: Stocks Slide Ahead of Big-Tech Earnings Reports; Gold Hits Record High\"},\n",
       " {'url': 'https://apnews.com/article/stock-market-1-november-2024-e38ab146c7e9d1148cbdd215a22a1796',\n",
       "  'content': 'Stock market today: Japan leads losses in Asia after sharp decline on Wall St driven by Big Tech | AP News World Election 2024 AP Investigations AP Buyline Personal Finance AP Buyline Shopping World Global elections Election 2024 AP Votecast Election 2024 U.S. Supreme Court AP Top 25 The Ancient World AP Investigations AP Buyline Personal Finance AP Buyline Shopping Show Search Submit Search  World Global elections Mideast Wars Israel-Hamas War Russia-Ukraine War Global elections ESPAÑOL China Asia Pacific Latin America Election 2024 AP Votecast Results Advance vote Explaining 2024 AP Votecast Election 2024 U.S. Supreme Court Election 2024 Congress U.S. Supreme Court AP Top 25 AP Top 25 NFL MLB NBA NHL Men’s College Basketball Women’s College Basketball Auto Racing'},\n",
       " {'url': 'https://www.reuters.com/markets/us/',\n",
       "  'content': \"trading lower\\ntrading higher\\ntrading lower\\ntrading lower\\ntrading lower\\ntrading lower\\nU.S. Markets\\nTop U.S. Markets\\n.DJI\\n.IXIC\\n.SPX\\nSource: LSEG - data delayed by at least 15 minutes\\nHigher mortgage rates weigh on US new home sales in October\\nBMO sees solid US stock gains ahead, S&P 500 ending 2024 at 5,100\\nWall St pauses amid Cyber Monday madness; data, Fed speakers on tap\\nMorning Bid: Stocks stall after VIX hits pre-COVID low\\nMarkets Performance\\nCommodities\\nCurrencies\\nRates & Bonds\\nStocks\\nSource: LSEG - data delayed by at least 15 minutes\\nMore U.S. Markets\\nAs US job market softens, gains of minority groups hang in the balance\\nFocus: New crypto front emerges in Israel's militant financing fight\\nInsight: Wall Street gets creative as regulators demand more capital\\nThe $11 billion multilateral lender Climate Investment Funds, which works with the World Bank and others to accelerate investment in the developing world, has appointed Tariye Gbadegesin as its new chief executive, the first African to take the helm.\\n US dollar falls against most currencies as rate cut view weighs\\nMore US shoppers tack on buy now, pay later debt for Cyber Monday\\nDeutsche Bank sees 12% upside to S&P 500 through 2024-end\\nProperty giant Signa set to make further insolvency filings - sources\\nGold nudges higher on dollar dip, Fed pause bets\\nSite Index\\nBrowse\\nAbout Reuters\\nStay Informed\\nInformation you can trust\\nReuters, the news and media division of Thomson Reuters, is the world’s largest multimedia news provider, reaching billions of people worldwide every day. Follow Us\\nThomson Reuters Products\\nBuild the strongest argument relying on authoritative content, attorney-editor expertise, and industry defining technology.\\n LSEG Products\\nAccess unmatched financial data, news and content in a highly-customised workflow experience on desktop, web and mobile.\\n Reuters provides business, financial, national and international news to professionals via desktop terminals, the world's media organizations, industry events and directly to consumers.\\n\"}]"
      ]
     },
     "execution_count": 16,
     "metadata": {},
     "output_type": "execute_result"
    }
   ],
   "source": [
    "# Invoke search\n",
    "search_tool.invoke({\"query\": \"What are the key news headlines in USA related to Stock market on November 1, 2024?\"})\n"
   ]
  },
  {
   "cell_type": "markdown",
   "metadata": {},
   "source": [
    "## Chain Search call with LLM Chat "
   ]
  },
  {
   "cell_type": "code",
   "execution_count": 22,
   "metadata": {},
   "outputs": [
    {
     "name": "stdout",
     "output_type": "stream",
     "text": [
      "current_date is : 2024-11-02 09:08:14.780147\n"
     ]
    }
   ],
   "source": [
    "# Bind with LLM using bind_tools\n",
    "import datetime\n",
    "from langchain_core.prompts import ChatPromptTemplate\n",
    "from langchain_core.runnables import RunnableConfig, chain\n",
    "\n",
    "current_date = datetime.datetime.today()\n",
    "print(f\"current_date is : {current_date}\")\n",
    "prompt = ChatPromptTemplate(\n",
    "    [\n",
    "        (\"system\",f\"You are a helpful assistant who can answer to user input in layman English sentences. The date today is {current_date}.\"),\n",
    "        (\"human\", \"{user_input}\"),\n",
    "        (\"placeholder\", \"{messages}\")   \n",
    "    ]\n",
    ")\n",
    "\n",
    "# Bind search tool to llm\n",
    "model_with_search = model.bind_tools([search_tool])\n",
    "model_chain = prompt | model_with_search\n",
    "\n",
    "@chain\n",
    "def search_tool_chain(user_input: str, config: RunnableConfig):\n",
    "    input_ = {\"user_input\": user_input}\n",
    "    model_msg = model_chain.invoke(input_, config=config)\n",
    "    search_tool_msg = search_tool.batch(model_msg.tool_calls, config=config)\n",
    "    return model_chain.invoke({**input_, \"messages\": [model_msg, *search_tool_msg]},config=config)\n"
   ]
  },
  {
   "cell_type": "code",
   "execution_count": null,
   "metadata": {},
   "outputs": [
    {
     "data": {
      "text/plain": [
       "AIMessage(content='Today is November 2, 2024.', additional_kwargs={'refusal': None}, response_metadata={'token_usage': {'completion_tokens': 11, 'prompt_tokens': 137, 'total_tokens': 148, 'completion_tokens_details': {'audio_tokens': None, 'reasoning_tokens': 0}, 'prompt_tokens_details': {'audio_tokens': None, 'cached_tokens': 0}}, 'model_name': 'gpt-4o-mini-2024-07-18', 'system_fingerprint': 'fp_9b78b61c52', 'finish_reason': 'stop', 'logprobs': None}, id='run-130e4fd1-a7bf-4c85-8794-a7e58b3f6842-0', usage_metadata={'input_tokens': 137, 'output_tokens': 11, 'total_tokens': 148, 'input_token_details': {'cache_read': 0}, 'output_token_details': {'reasoning': 0}})"
      ]
     },
     "execution_count": 23,
     "metadata": {},
     "output_type": "execute_result"
    }
   ],
   "source": [
    "# Invoke search by calling search_tool_chain method\n",
    "search_tool_chain.invoke(\"Where did Trump campagin yesterday ? and where is he planning to campaign today ?\")"
   ]
  }
 ],
 "metadata": {
  "kernelspec": {
   "display_name": ".venv",
   "language": "python",
   "name": "python3"
  },
  "language_info": {
   "codemirror_mode": {
    "name": "ipython",
    "version": 3
   },
   "file_extension": ".py",
   "mimetype": "text/x-python",
   "name": "python",
   "nbconvert_exporter": "python",
   "pygments_lexer": "ipython3",
   "version": "3.12.2"
  }
 },
 "nbformat": 4,
 "nbformat_minor": 2
}
