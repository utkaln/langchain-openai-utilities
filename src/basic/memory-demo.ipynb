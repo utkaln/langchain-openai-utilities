{
 "cells": [
  {
   "cell_type": "code",
   "execution_count": 3,
   "metadata": {},
   "outputs": [],
   "source": [
    "import os\n",
    "from openai import OpenAI\n",
    "from dotenv import load_dotenv, find_dotenv\n",
    "import datetime\n",
    "# Load local env file\n",
    "_ = load_dotenv(find_dotenv())\n",
    "# Read openai api key from local environment\n",
    "llm_model = 'gpt-3.5-turbo'\n",
    "temperature=0.2\n",
    "open_ai = OpenAI(\n",
    "  organization=os.environ['OPENAI_ORG'],\n",
    "  api_key=os.environ['OPENAI_API_KEY'],\n",
    ")\n"
   ]
  },
  {
   "cell_type": "markdown",
   "metadata": {},
   "source": [
    "### Enter user input, system prompt and style below"
   ]
  },
  {
   "cell_type": "code",
   "execution_count": 4,
   "metadata": {},
   "outputs": [],
   "source": [
    "# Input Prompt\n",
    "# test with a prompt\n",
    "user_msg = \"Hi my name is Bob ! \"\n",
    "prompt = f\"\"\"You are a helpful AI agent with deep knowledge of Middle school and High schools of United States of America level knowledge. Please answer to the question asked in a clear and concise way. Do not provide any unproven or imaginary answer.\"\"\"\n"
   ]
  },
  {
   "cell_type": "markdown",
   "metadata": {},
   "source": [
    "### Send the message without saving to history\n",
    "- Expect AI to not remember anything from previous step"
   ]
  },
  {
   "cell_type": "code",
   "execution_count": 6,
   "metadata": {},
   "outputs": [
    {
     "data": {
      "text/plain": [
       "\"I'm sorry, but I do not have access to personal information such as your name. How can I assist you with anything else today?\""
      ]
     },
     "execution_count": 6,
     "metadata": {},
     "output_type": "execute_result"
    }
   ],
   "source": [
    "#!pip install -U langchain langchain-openai\n",
    "from langchain_openai import ChatOpenAI\n",
    "\n",
    "llm = ChatOpenAI(model=llm_model)\n",
    "\n",
    "# import system prompt and user prompt from langchain\n",
    "from langchain_core.messages import HumanMessage, SystemMessage\n",
    "\n",
    "messages = [\n",
    "    SystemMessage(content=prompt),\n",
    "    HumanMessage(content=user_msg)\n",
    "]\n",
    "\n",
    "# import langchain parser\n",
    "from langchain_core.output_parsers import StrOutputParser\n",
    "parser = StrOutputParser()\n",
    "\n",
    "# parser.invoke(llm.invoke(messages))\n",
    "# More modern way of invoking the response and parsing is by using |\n",
    "chain = llm | parser\n",
    "chain.invoke(messages)\n",
    "\n",
    "user_msg_ask = \"What is my name ? \"\n",
    "messages = [\n",
    "    SystemMessage(content=prompt),\n",
    "    HumanMessage(content=user_msg_ask)\n",
    "]\n",
    "\n",
    "# import langchain parser\n",
    "from langchain_core.output_parsers import StrOutputParser\n",
    "parser = StrOutputParser()\n",
    "\n",
    "# parser.invoke(llm.invoke(messages))\n",
    "# More modern way of invoking the response and parsing is by using |\n",
    "chain = llm | parser\n",
    "chain.invoke(messages)\n"
   ]
  },
  {
   "cell_type": "markdown",
   "metadata": {},
   "source": [
    "## Send message with Message History\n",
    "- Using langchain_community\n",
    "- First install this package : `pip install langchain_community`"
   ]
  },
  {
   "cell_type": "code",
   "execution_count": null,
   "metadata": {},
   "outputs": [],
   "source": [
    "from langchain_core.chat_history import (\n",
    "    BaseChatMessageHistory,\n",
    "    InMemoryChatMessageHistory\n",
    ")\n",
    "from langchain_core.runnables.history import RunnableWithMessageHistory\n",
    "store = {}\n",
    "\n",
    "def get_session_history(session_id: str) -> BaseChatMessageHistory:\n",
    "    if session_id not in store:\n",
    "        store[session_id] = InMemoryChatMessageHistory()\n",
    "    return store[session_id]\n",
    "\n",
    "with_message_history = RunnableWithMessageHistory(chain, get_session_history)\n",
    "user_msg_hist_1 = \"Hi my name is Bob ! \"\n",
    "prompt_hist_1 = f\"\"\"You are a helpful AI agent with deep knowledge of Middle school and High schools of United States of America level knowledge. Please answer to the question asked in a clear and concise way. Do not provide any unproven or imaginary answer.\"\"\"\n"
   ]
  }
 ],
 "metadata": {
  "kernelspec": {
   "display_name": ".venv",
   "language": "python",
   "name": "python3"
  },
  "language_info": {
   "codemirror_mode": {
    "name": "ipython",
    "version": 3
   },
   "file_extension": ".py",
   "mimetype": "text/x-python",
   "name": "python",
   "nbconvert_exporter": "python",
   "pygments_lexer": "ipython3",
   "version": "3.12.2"
  }
 },
 "nbformat": 4,
 "nbformat_minor": 2
}
