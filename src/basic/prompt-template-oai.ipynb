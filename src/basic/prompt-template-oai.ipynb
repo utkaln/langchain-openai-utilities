{
 "cells": [
  {
   "cell_type": "markdown",
   "metadata": {},
   "source": [
    "## Use prompt template and parser to chain\n"
   ]
  },
  {
   "cell_type": "code",
   "execution_count": 26,
   "metadata": {},
   "outputs": [],
   "source": [
    "import os\n",
    "from openai import OpenAI\n",
    "from dotenv import load_dotenv, find_dotenv\n",
    "import datetime\n",
    "# Load local env file\n",
    "_ = load_dotenv(find_dotenv())\n",
    "# Read openai api key from local environment\n",
    "llm_model = 'gpt-4'\n",
    "temperature=0.2\n",
    "open_ai = OpenAI(\n",
    "  organization=os.environ['OPENAI_ORG'],\n",
    "  api_key=os.environ['OPENAI_API_KEY'],\n",
    ")\n",
    "\n",
    "#!pip install -U langchain langchain-openai\n",
    "from langchain_openai import ChatOpenAI\n",
    "llm = ChatOpenAI(model=llm_model)\n"
   ]
  },
  {
   "cell_type": "markdown",
   "metadata": {},
   "source": [
    "### Prompt Templates\n",
    "- concept in LangChain designed to assist with this transformation\n",
    "- This example translates user input message from English to a target language"
   ]
  },
  {
   "cell_type": "code",
   "execution_count": 30,
   "metadata": {},
   "outputs": [],
   "source": [
    "# Prompts\n",
    "target_language = \"Hindi\"\n",
    "user_input = \" Where did you put my socks?!?!\"\n"
   ]
  },
  {
   "cell_type": "code",
   "execution_count": 31,
   "metadata": {},
   "outputs": [],
   "source": [
    "from langchain_core.prompts import ChatPromptTemplate\n",
    "system_template = \"Translate the following into {language}:\"\n",
    "prompt_template = ChatPromptTemplate.from_messages(\n",
    "    [(\"system\",system_template),(\"user\",user_input)]\n",
    ")\n"
   ]
  },
  {
   "cell_type": "markdown",
   "metadata": {},
   "source": [
    "### Chain using |"
   ]
  },
  {
   "cell_type": "code",
   "execution_count": null,
   "metadata": {},
   "outputs": [],
   "source": [
    "from langchain_core.output_parsers import StrOutputParser\n",
    "parser = StrOutputParser()\n",
    "chained_output = prompt_template | llm | parser\n",
    "chained_output.invoke({\"language\":target_language,\"text\":user_input})"
   ]
  }
 ],
 "metadata": {
  "kernelspec": {
   "display_name": ".venv",
   "language": "python",
   "name": "python3"
  },
  "language_info": {
   "codemirror_mode": {
    "name": "ipython",
    "version": 3
   },
   "file_extension": ".py",
   "mimetype": "text/x-python",
   "name": "python",
   "nbconvert_exporter": "python",
   "pygments_lexer": "ipython3",
   "version": "3.12.2"
  }
 },
 "nbformat": 4,
 "nbformat_minor": 2
}
